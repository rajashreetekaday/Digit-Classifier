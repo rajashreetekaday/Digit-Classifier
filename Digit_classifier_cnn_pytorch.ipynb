{
 "cells": [
  {
   "cell_type": "code",
   "execution_count": 1,
   "id": "f1e6b9c0",
   "metadata": {},
   "outputs": [
    {
     "data": {
      "image/png": "[encoded data removed]",
      "text/plain": [
       "<Figure size 432x288 with 1 Axes>"
      ]
     },
     "metadata": {
      "needs_background": "light"
     },
     "output_type": "display_data"
    },
    {
     "name": "stdout",
     "output_type": "stream",
     "text": [
      "checking accuracy on trainig data\n",
      "accuracy : 98.71% \n",
      "checking accuracy on test data\n",
      "accuracy : 98.34% \n"
     ]
    },
    {
     "data": {
      "text/plain": [
       "<Figure size 432x288 with 0 Axes>"
      ]
     },
     "metadata": {},
     "output_type": "display_data"
    }
   ],
   "source": [
    "import numpy as np\n",
    "import torch\n",
    "import torch.nn as nn\n",
    "from torch.nn.modules import loss\n",
    "import torch.optim as optim\n",
    "import torch.nn.functional as F\n",
    "from torch.optim.optimizer import Optimizer\n",
    "from torch.utils.data import DataLoader\n",
    "import torchvision.datasets as datasets\n",
    "from torchvision import transforms\n",
    "import torchvision\n",
    "import matplotlib.pyplot as plt\n",
    "\n",
    "class cnn(nn.Module):\n",
    "    def __init__(self,in_channels=1,num_classes=10):\n",
    "        super(cnn,self).__init__()\n",
    "        self.conv1=nn.Conv2d(in_channels=1,out_channels=8,kernel_size=(3,3),stride=(1,1),padding=(1,1))\n",
    "        self.pool=nn.MaxPool2d(kernel_size=(2,2),stride=(2,2))\n",
    "        self.conv2=nn.Conv2d(in_channels=8,out_channels=16,kernel_size=(3,3),stride=(1,1),padding=(1,1))\n",
    "        self.fc1=nn.Linear(16*7*7,num_classes)\n",
    "\n",
    "    def forward(self,x):\n",
    "        x=F.relu(self.conv1(x))\n",
    "        x=self.pool(x)\n",
    "        x=F.relu(self.conv2(x))\n",
    "        x=self.pool(x)\n",
    "        x=x.reshape(x.shape[0],-1)\n",
    "        x=self.fc1(x)\n",
    "\n",
    "        return x\n",
    "\n",
    "device=torch.device('cuda' if torch.cuda.is_available() else 'cpu')\n",
    "\n",
    "#hyperparameters\n",
    "in_channels=1\n",
    "num_classes=10\n",
    "learning_rate=0.001\n",
    "batch_size=64\n",
    "num_epochs=5\n",
    "\n",
    "data_path=r'C:\\Users\\Rajashree\\Desktop\\IvLabs\\DigitClassifier\\data'\n",
    "model_store_path=r'C:\\Users\\Rajashree\\Desktop\\IvLabs\\DigitClassifier\\pytorch_models'\n",
    "\n",
    "# transforms to apply to the data\n",
    "trans = transforms.Compose([transforms.ToTensor(), transforms.Normalize((0.1307,), (0.3081,))])\n",
    "\n",
    "# MNIST dataset\n",
    "train_dataset = torchvision.datasets.MNIST(root=data_path, train=True, transform=trans, download=True)\n",
    "test_dataset = torchvision.datasets.MNIST(root=data_path, train=False, transform=trans)\n",
    "\n",
    "train_loader = DataLoader(dataset=train_dataset, batch_size=batch_size, shuffle=True)\n",
    "test_loader = DataLoader(dataset=test_dataset, batch_size=batch_size, shuffle=False)\n",
    "\n",
    "model=cnn().to(device)\n",
    "\n",
    "criterion=nn.CrossEntropyLoss()\n",
    "optimizer=optim.Adam(model.parameters(),lr=learning_rate)\n",
    "loss_list=[]\n",
    "for epoch in range(num_epochs):\n",
    "    size = len(train_loader.dataset)\n",
    "    for batch_idx,(data,targets) in enumerate(train_loader):\n",
    "        data=data.to(device=device)\n",
    "        targets=targets.to(device=device)\n",
    "\n",
    "        scores=model(data)\n",
    "        loss=criterion(scores,targets)\n",
    "\n",
    "        optimizer.zero_grad()\n",
    "        loss.backward()\n",
    "\n",
    "        optimizer.step()\n",
    "        if batch_idx % 5 == 0:\n",
    "            loss, current = loss.item(), batch_idx * len(data)\n",
    "            #print(f\"loss: {loss:>7f}  [{current:>5d}/{size:>5d}]\")\n",
    "            loss_list.append(loss)\n",
    "\n",
    "plt.plot(np.arange(len(loss_list)).reshape(len(loss_list),1),np.array(loss_list).reshape(len(loss_list),1))\n",
    "plt.ylabel('loss')\n",
    "plt.show()\n",
    "plt.savefig('myplot.png')\n",
    "\n",
    "\n",
    "def check_accuracy(loader,model):\n",
    "    if loader.dataset.train:\n",
    "        print('checking accuracy on trainig data')\n",
    "\n",
    "    else :\n",
    "        print('checking accuracy on test data')\n",
    "\n",
    "    num_correct=0\n",
    "    num_samples=0\n",
    "    model.eval()\n",
    "\n",
    "    with torch.no_grad():\n",
    "        for x,y in loader:\n",
    "            x=x.to(device=device)\n",
    "            y=y.to(device=device)\n",
    "\n",
    "            scores=model(x)\n",
    "            _,predictions=scores.max(1)\n",
    "            num_correct+=(predictions==y).sum()\n",
    "            num_samples+=predictions.size(0)\n",
    "\n",
    "        print(f'accuracy : {float(num_correct)/float(num_samples)*100:.2f}% ')\n",
    "\n",
    "    model.train()\n",
    "    \n",
    "\n",
    "check_accuracy(train_loader,model)\n",
    "check_accuracy(test_loader,model)\n",
    "\n",
    "\n",
    "\n"
   ]
  },
  {
   "cell_type": "code",
   "execution_count": null,
   "id": "a7849e9d",
   "metadata": {},
   "outputs": [],
   "source": []
  }
 ],
 "metadata": {
  "kernelspec": {
   "display_name": "Python 3 (ipykernel)",
   "language": "python",
   "name": "python3"
  },
  "language_info": {
   "codemirror_mode": {
    "name": "ipython",
    "version": 3
   },
   "file_extension": ".py",
   "mimetype": "text/x-python",
   "name": "python",
   "nbconvert_exporter": "python",
   "pygments_lexer": "ipython3",
   "version": "3.9.5"
  }
 },
 "nbformat": 4,
 "nbformat_minor": 5
}
